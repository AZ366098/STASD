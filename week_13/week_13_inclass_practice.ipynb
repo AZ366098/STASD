{
 "cells": [
  {
   "cell_type": "markdown",
   "metadata": {},
   "source": [
    "# Week 13. In-Class Practice"
   ]
  },
  {
   "cell_type": "code",
   "execution_count": 3,
   "metadata": {},
   "outputs": [],
   "source": [
    "import jieba\n",
    "from ipywidgets import IntProgress\n",
    "from hanziconv import HanziConv\n",
    "from IPython.display import display"
   ]
  },
  {
   "cell_type": "code",
   "execution_count": 5,
   "metadata": {},
   "outputs": [],
   "source": [
    "file_train_read = []\n",
    "with open('./dataset/xiuzhenliaotianqun.txt', encoding='utf-8') as file_train_raw:\n",
    "    for line in file_train_raw:\n",
    "        if line.strip() != '':\n",
    "            file_train_read.append(HanziConv.toTraditional(line.strip()))"
   ]
  },
  {
   "cell_type": "code",
   "execution_count": 19,
   "metadata": {},
   "outputs": [
    {
     "data": {
      "application/vnd.jupyter.widget-view+json": {
       "model_id": "b8ca7039ad604d78991af4b441e41bb7",
       "version_major": 2,
       "version_minor": 0
      },
      "text/plain": [
       "IntProgress(value=0, description='[ 0 / 213871 ] ', max=213871)"
      ]
     },
     "metadata": {},
     "output_type": "display_data"
    }
   ],
   "source": [
    "progress = IntProgress(min=0, max=len(file_train_read))\n",
    "progress.value = 0\n",
    "progress.description = \"[ %s / %s ] \"%(str(progress.value), str(progress.max))\n",
    "display(progress)\n",
    "\n",
    "file_train_seg = []\n",
    "for i in range(len(file_train_read)):\n",
    "    file_train_seg.append([' '.join(list(jieba.cut(file_train_read[i], cut_all=False)))])\n",
    "    progress.value +=1\n",
    "    progress.description = \"[ %s / %s ] \"%(str(progress.value), str(progress.max))"
   ]
  },
  {
   "cell_type": "code",
   "execution_count": 8,
   "metadata": {},
   "outputs": [
    {
     "name": "stdout",
     "output_type": "stream",
     "text": [
      "高燒褪去，身體還是有些發虛，這樣的狀態根本無法去上課。所以，他隻能獨自一人呆在宿捨無聊的看電影。\n"
     ]
    }
   ],
   "source": [
    "# 將jieba的斷詞產出存檔\n",
    "file_seg_word_done_path = 'corpus_seg_done.txt'\n",
    "with open(file_seg_word_done_path, 'wb') as f:\n",
    "    for i in range(len(file_train_seg)):\n",
    "        f.write((file_train_seg[i][0] + '\\n').encode('utf-8'))\n",
    "\n",
    "# 檢視斷詞jieba的結果\n",
    "def print_list_chinese(list):\n",
    "    for i in range(len(list)):\n",
    "        print(list[i])\n",
    "        \n",
    "print_list_chinese(file_train_seg[10])"
   ]
  },
  {
   "cell_type": "code",
   "execution_count": 9,
   "metadata": {},
   "outputs": [
    {
     "data": {
      "text/plain": [
       "213871"
      ]
     },
     "execution_count": 9,
     "metadata": {},
     "output_type": "execute_result"
    }
   ],
   "source": [
    "len(file_train_seg)"
   ]
  },
  {
   "cell_type": "code",
   "execution_count": 18,
   "metadata": {},
   "outputs": [
    {
     "data": {
      "text/plain": [
       "['江南 大學城 。']"
      ]
     },
     "execution_count": 18,
     "metadata": {},
     "output_type": "execute_result"
    }
   ],
   "source": [
    "[' '.join(list(jieba.cut(file_train_read[4], cut_all=False)))]"
   ]
  },
  {
   "cell_type": "code",
   "execution_count": null,
   "metadata": {},
   "outputs": [],
   "source": []
  }
 ],
 "metadata": {
  "kernelspec": {
   "display_name": "Python 3",
   "language": "python",
   "name": "python3"
  },
  "language_info": {
   "codemirror_mode": {
    "name": "ipython",
    "version": 3
   },
   "file_extension": ".py",
   "mimetype": "text/x-python",
   "name": "python",
   "nbconvert_exporter": "python",
   "pygments_lexer": "ipython3",
   "version": "3.7.0"
  }
 },
 "nbformat": 4,
 "nbformat_minor": 2
}
