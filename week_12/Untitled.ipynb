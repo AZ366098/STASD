{
 "cells": [
  {
   "cell_type": "markdown",
   "metadata": {},
   "source": [
    "# Week 12. In-Class Practice"
   ]
  },
  {
   "cell_type": "markdown",
   "metadata": {},
   "source": [
    "### 引入自然語言處理 package: nltk "
   ]
  },
  {
   "cell_type": "code",
   "execution_count": 26,
   "metadata": {},
   "outputs": [
    {
     "name": "stdout",
     "output_type": "stream",
     "text": [
      "[nltk_data] Downloading package treebank to /home/kevin/nltk_data...\n",
      "[nltk_data]   Unzipping corpora/treebank.zip.\n"
     ]
    },
    {
     "data": {
      "text/plain": [
       "True"
      ]
     },
     "execution_count": 26,
     "metadata": {},
     "output_type": "execute_result"
    }
   ],
   "source": [
    "import nltk\n",
    "from nltk.tokenize import sent_tokenize, word_tokenize\n",
    "from nltk.tokenize import TreebankWordTokenizer\n",
    "from nltk.tag import pos_tag\n",
    "from nltk import ne_chunk, Tree\n",
    "from nltk.corpus import treebank\n",
    "# nltk.download('punkt')\n",
    "# nltk.download('averaged_perceptron_tagger')\n",
    "# nltk.download('maxent_ne_chunker')\n",
    "# nltk.download('words')\n",
    "nltk.download('treebank')"
   ]
  },
  {
   "cell_type": "markdown",
   "metadata": {},
   "source": [
    "### 讀進新聞資料"
   ]
  },
  {
   "cell_type": "code",
   "execution_count": 2,
   "metadata": {},
   "outputs": [
    {
     "data": {
      "text/plain": [
       "38"
      ]
     },
     "execution_count": 2,
     "metadata": {},
     "output_type": "execute_result"
    }
   ],
   "source": [
    "with open('./dataset/news.txt','r') as file:\n",
    "    news = file.readlines()\n",
    "len(news)"
   ]
  },
  {
   "cell_type": "markdown",
   "metadata": {},
   "source": [
    "### 使用 nltk 進行斷詞、標籤，並完成句法樹"
   ]
  },
  {
   "cell_type": "code",
   "execution_count": 16,
   "metadata": {},
   "outputs": [
    {
     "data": {
      "text/plain": [
       "[('Hong', 'NNP'),\n",
       " ('Kong', 'NNP'),\n",
       " ('(', '('),\n",
       " ('CNN', 'NNP'),\n",
       " (')', ')'),\n",
       " ('The', 'DT'),\n",
       " ('major', 'JJ'),\n",
       " ('defeat', 'NN'),\n",
       " ('for', 'IN'),\n",
       " ('Taiwan', 'NNP')]"
      ]
     },
     "execution_count": 16,
     "metadata": {},
     "output_type": "execute_result"
    }
   ],
   "source": [
    "news_concated = \" \".join(news)\n",
    "news_tokenized = nltk.word_tokenize(news_concated)\n",
    "news_tagged = nltk.pos_tag(news_tokenized)\n",
    "news_tagged[0:10] "
   ]
  },
  {
   "cell_type": "code",
   "execution_count": 18,
   "metadata": {},
   "outputs": [
    {
     "data": {
      "text/plain": [
       "nltk.tree.Tree"
      ]
     },
     "execution_count": 18,
     "metadata": {},
     "output_type": "execute_result"
    }
   ],
   "source": [
    "news_entities = nltk.ne_chunk(news_tagged, binary=False)\n",
    "type(news_entities)"
   ]
  },
  {
   "cell_type": "code",
   "execution_count": 35,
   "metadata": {},
   "outputs": [],
   "source": [
    "# news_entities.draw()"
   ]
  },
  {
   "cell_type": "markdown",
   "metadata": {},
   "source": [
    "### 將標籤後的詞彙依標籤取出"
   ]
  },
  {
   "cell_type": "code",
   "execution_count": 36,
   "metadata": {},
   "outputs": [
    {
     "data": {
      "text/plain": [
       "['Hong Kong',\n",
       " 'Taiwan',\n",
       " 'Beijing',\n",
       " 'Taiwan Taichung',\n",
       " 'Taiwan Kaohsiung',\n",
       " 'Taiwan Taiwan Strait',\n",
       " 'Taiwan Taiwan',\n",
       " 'China',\n",
       " 'China Taiwan',\n",
       " 'China Singapore',\n",
       " 'China Taipei',\n",
       " 'Beijing Taiwan Strait',\n",
       " 'Taiwan Taiwan Taiwan',\n",
       " 'Taiwan Chinese',\n",
       " 'Singapore',\n",
       " 'Taiwan Taiwan China',\n",
       " 'China Beijing',\n",
       " 'Taiwan Beijing',\n",
       " 'Chinese',\n",
       " 'Taiwan Taiwan China Taiwan',\n",
       " 'Taiwan Beijing Tsai',\n",
       " 'Taiwan China',\n",
       " 'Taiwan Strait',\n",
       " 'Taiwan Taiwan Taiwan Beijing',\n",
       " 'Taiwan East Asia',\n",
       " 'China Beijing Taiwan',\n",
       " 'Beijing Washington',\n",
       " 'China China',\n",
       " 'Taiwan China Washington',\n",
       " 'China China Taiwan',\n",
       " 'Taiwan Taiwan China Washington',\n",
       " 'China Washington',\n",
       " 'China China China',\n",
       " 'United States']"
      ]
     },
     "execution_count": 36,
     "metadata": {},
     "output_type": "execute_result"
    }
   ],
   "source": [
    "def get_continuous_chunks(text, label):\n",
    "    chunked = ne_chunk(pos_tag(word_tokenize(text)))\n",
    "    prev = None\n",
    "    continuous_chunk = []\n",
    "    current_chunk = []\n",
    "\n",
    "    for subtree in chunked:\n",
    "        if type(subtree) == Tree and subtree.label() == label:\n",
    "            current_chunk.append(\" \".join([token for token, pos in subtree.leaves()]))\n",
    "        elif current_chunk:\n",
    "            named_entity = \" \".join(current_chunk)\n",
    "            if named_entity not in continuous_chunk:\n",
    "                continuous_chunk.append(named_entity)\n",
    "                current_chunk = []\n",
    "        else:\n",
    "            continue\n",
    "    return continuous_chunk\n",
    "\n",
    "get_continuous_chunks(news_concated, 'GPE')"
   ]
  },
  {
   "cell_type": "code",
   "execution_count": null,
   "metadata": {
    "collapsed": true
   },
   "outputs": [],
   "source": []
  }
 ],
 "metadata": {
  "kernelspec": {
   "display_name": "Python 3",
   "language": "python",
   "name": "python3"
  },
  "language_info": {
   "codemirror_mode": {
    "name": "ipython",
    "version": 3
   },
   "file_extension": ".py",
   "mimetype": "text/x-python",
   "name": "python",
   "nbconvert_exporter": "python",
   "pygments_lexer": "ipython3",
   "version": "3.6.1"
  }
 },
 "nbformat": 4,
 "nbformat_minor": 2
}
