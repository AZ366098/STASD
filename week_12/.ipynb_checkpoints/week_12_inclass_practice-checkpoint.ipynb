{
 "cells": [
  {
   "cell_type": "markdown",
   "metadata": {},
   "source": [
    "# Week 12. In-Class Practice"
   ]
  },
  {
   "cell_type": "markdown",
   "metadata": {},
   "source": [
    "### 引入自然語言處理 package: nltk "
   ]
  },
  {
   "cell_type": "code",
   "execution_count": null,
   "metadata": {},
   "outputs": [
    {
     "name": "stdout",
     "output_type": "stream",
     "text": [
      "[nltk_data] Downloading package punkt to\n",
      "[nltk_data]     C:\\Users\\kevink556\\AppData\\Roaming\\nltk_data...\n"
     ]
    }
   ],
   "source": [
    "import nltk\n",
    "from nltk.tokenize import sent_tokenize, word_tokenize\n",
    "from nltk.tokenize import TreebankWordTokenizer\n",
    "from nltk.tag import pos_tag\n",
    "from nltk import ne_chunk, Tree\n",
    "from nltk.corpus import treebank\n",
    "nltk.download('punkt')\n",
    "nltk.download('averaged_perceptron_tagger')\n",
    "nltk.download('maxent_ne_chunker')\n",
    "nltk.download('words')\n",
    "nltk.download('treebank')"
   ]
  },
  {
   "cell_type": "markdown",
   "metadata": {},
   "source": [
    "### 讀進新聞資料"
   ]
  },
  {
   "cell_type": "code",
   "execution_count": 2,
   "metadata": {},
   "outputs": [
    {
     "data": {
      "text/plain": [
       "38"
      ]
     },
     "execution_count": 2,
     "metadata": {},
     "output_type": "execute_result"
    }
   ],
   "source": [
    "with open('./dataset/news.txt','r') as file:\n",
    "    news = file.readlines()\n",
    "len(news)"
   ]
  },
  {
   "cell_type": "markdown",
   "metadata": {},
   "source": [
    "### 使用 nltk 進行斷詞、標籤，並完成句法樹"
   ]
  },
  {
   "cell_type": "code",
   "execution_count": 3,
   "metadata": {},
   "outputs": [
    {
     "data": {
      "text/plain": [
       "[('Hong', 'NNP'),\n",
       " ('Kong', 'NNP'),\n",
       " ('(', '('),\n",
       " ('CNN', 'NNP'),\n",
       " (')', ')'),\n",
       " ('The', 'DT'),\n",
       " ('major', 'JJ'),\n",
       " ('defeat', 'NN'),\n",
       " ('for', 'IN'),\n",
       " ('Taiwan', 'NNP')]"
      ]
     },
     "execution_count": 3,
     "metadata": {},
     "output_type": "execute_result"
    }
   ],
   "source": [
    "news_concated = \" \".join(news)\n",
    "news_tokenized = nltk.word_tokenize(news_concated)\n",
    "news_tagged = nltk.pos_tag(news_tokenized)\n",
    "news_tagged[0:10] "
   ]
  },
  {
   "cell_type": "code",
   "execution_count": 5,
   "metadata": {},
   "outputs": [
    {
     "data": {
      "text/plain": [
       "nltk.tree.Tree"
      ]
     },
     "execution_count": 5,
     "metadata": {},
     "output_type": "execute_result"
    }
   ],
   "source": [
    "news_entities = nltk.ne_chunk(news_tagged, binary=False)\n",
    "type(news_entities)"
   ]
  },
  {
   "cell_type": "markdown",
   "metadata": {},
   "source": [
    "### 簡單拆解 nltk.Tree \n",
    " - 句法樹的葉子都是`tuple`， `x[0]`是內容， `x[1]`是標籤\n",
    " - 樹和子樹的標籤可以用`label()`這個方法 (method) 取得，但葉子的的標籤必須透過前述的indexing\n",
    " - `Tree`這個型別是iterable的，所以可以用 indexing 的方法遍歷\n",
    " - `nltk.Tree.pprint()`可以展開整棵句法樹"
   ]
  },
  {
   "cell_type": "code",
   "execution_count": 6,
   "metadata": {},
   "outputs": [
    {
     "data": {
      "image/png": "[encoded data removed]",
      "text/plain": [
       "Tree('GPE', [('Hong', 'NNP'), ('Kong', 'NNP')])"
      ]
     },
     "execution_count": 6,
     "metadata": {},
     "output_type": "execute_result"
    }
   ],
   "source": [
    "news_entities[0]"
   ]
  },
  {
   "cell_type": "code",
   "execution_count": 7,
   "metadata": {},
   "outputs": [
    {
     "data": {
      "text/plain": [
       "'GPE'"
      ]
     },
     "execution_count": 7,
     "metadata": {},
     "output_type": "execute_result"
    }
   ],
   "source": [
    "news_entities[0].label()"
   ]
  },
  {
   "cell_type": "code",
   "execution_count": 8,
   "metadata": {},
   "outputs": [
    {
     "name": "stdout",
     "output_type": "stream",
     "text": [
      "('Hong', 'NNP') ('Kong', 'NNP')\n"
     ]
    }
   ],
   "source": [
    "print(news_entities[0][0],\n",
    "      news_entities[0][1])"
   ]
  },
  {
   "cell_type": "markdown",
   "metadata": {},
   "source": [
    "#### nltk的句法樹可以作圖，但是文字量有點多，在此不建議使用"
   ]
  },
  {
   "cell_type": "code",
   "execution_count": 9,
   "metadata": {
    "collapsed": true
   },
   "outputs": [],
   "source": [
    "# news_entities.draw()"
   ]
  },
  {
   "cell_type": "markdown",
   "metadata": {},
   "source": [
    "### 將標籤後的詞彙依標籤取出"
   ]
  },
  {
   "cell_type": "code",
   "execution_count": 53,
   "metadata": {},
   "outputs": [
    {
     "data": {
      "text/plain": [
       "['Hong Kong',\n",
       " 'Taiwan',\n",
       " 'Beijing',\n",
       " 'Taiwan Taichung',\n",
       " 'Taiwan Kaohsiung',\n",
       " 'Taiwan Taiwan Strait',\n",
       " 'Taiwan Taiwan',\n",
       " 'China',\n",
       " 'China Taiwan',\n",
       " 'China Singapore',\n",
       " 'China Taipei',\n",
       " 'Beijing Taiwan Strait',\n",
       " 'Taiwan Taiwan Taiwan',\n",
       " 'Taiwan Chinese',\n",
       " 'Singapore',\n",
       " 'Taiwan Taiwan China',\n",
       " 'China Beijing',\n",
       " 'Taiwan Beijing',\n",
       " 'Chinese',\n",
       " 'Taiwan Taiwan China Taiwan',\n",
       " 'Taiwan Beijing Tsai',\n",
       " 'Taiwan China',\n",
       " 'Taiwan Strait',\n",
       " 'Taiwan Taiwan Taiwan Beijing',\n",
       " 'Taiwan East Asia',\n",
       " 'China Beijing Taiwan',\n",
       " 'Beijing Washington',\n",
       " 'China China',\n",
       " 'Taiwan China Washington',\n",
       " 'China China Taiwan',\n",
       " 'Taiwan Taiwan China Washington',\n",
       " 'China Washington',\n",
       " 'China China China',\n",
       " 'United States']"
      ]
     },
     "execution_count": 53,
     "metadata": {},
     "output_type": "execute_result"
    }
   ],
   "source": [
    "def get_continuous_chunks(text, label):\n",
    "    chunked = ne_chunk(pos_tag(word_tokenize(text)))\n",
    "    prev = None\n",
    "    continuous_chunk = []\n",
    "    current_chunk = []\n",
    "\n",
    "    for subtree in chunked:\n",
    "        if type(subtree) == Tree and subtree.label() == label:\n",
    "            current_chunk.append(\" \".join([token for token, pos in subtree.leaves()]))\n",
    "        elif current_chunk:\n",
    "            named_entity = \" \".join(current_chunk)\n",
    "            if named_entity not in continuous_chunk:\n",
    "                continuous_chunk.append(named_entity)\n",
    "                current_chunk = []\n",
    "        else:\n",
    "            continue\n",
    "    return continuous_chunk\n",
    "\n",
    "get_continuous_chunks(news_concated, 'GPE')"
   ]
  },
  {
   "cell_type": "code",
   "execution_count": 54,
   "metadata": {
    "scrolled": true
   },
   "outputs": [
    {
     "data": {
      "text/plain": [
       "['Taiwan',\n",
       " 'Taichung',\n",
       " 'Washington',\n",
       " 'Taipei',\n",
       " 'United States',\n",
       " 'China',\n",
       " 'Tsai',\n",
       " 'Chinese',\n",
       " 'Kaohsiung',\n",
       " 'Hong Kong',\n",
       " 'Singapore',\n",
       " 'Beijing',\n",
       " 'Taiwan Strait',\n",
       " 'East Asia']"
      ]
     },
     "execution_count": 54,
     "metadata": {},
     "output_type": "execute_result"
    }
   ],
   "source": [
    "def get_by_label(chunked_tree, label):\n",
    "    continuous_chunk = [\" \".join([x[0] for x in subtree])\n",
    "                                for subtree in chunked_tree if (type(subtree)==Tree and subtree.label()==label)]\n",
    "    continuous_chunk += [leaf[0] for leaf in chunked_tree.leaves() if leaf[1]==label]\n",
    "    continuous_chunk = list(set(continuous_chunk))\n",
    "    return continuous_chunk\n",
    "\n",
    "get_by_label(news_entities, \"GPE\") # 地名"
   ]
  },
  {
   "cell_type": "code",
   "execution_count": 55,
   "metadata": {},
   "outputs": [
    {
     "data": {
      "text/plain": [
       "['creates',\n",
       " 'seeks',\n",
       " 'makes',\n",
       " 'resigns',\n",
       " 'has',\n",
       " 'carries',\n",
       " 'remains',\n",
       " 'fits',\n",
       " 'lies',\n",
       " 'pays',\n",
       " 'is',\n",
       " 'preaches']"
      ]
     },
     "execution_count": 55,
     "metadata": {},
     "output_type": "execute_result"
    }
   ],
   "source": [
    "get_by_label(news_entities, \"VBZ\") # 動詞"
   ]
  }
 ],
 "metadata": {
  "kernelspec": {
   "display_name": "Python 3",
   "language": "python",
   "name": "python3"
  },
  "language_info": {
   "codemirror_mode": {
    "name": "ipython",
    "version": 3
   },
   "file_extension": ".py",
   "mimetype": "text/x-python",
   "name": "python",
   "nbconvert_exporter": "python",
   "pygments_lexer": "ipython3",
   "version": "3.7.0"
  }
 },
 "nbformat": 4,
 "nbformat_minor": 2
}
