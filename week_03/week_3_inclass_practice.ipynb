{
 "cells": [
  {
   "cell_type": "markdown",
   "metadata": {},
   "source": [
    "# Week 3. In-Class Practice"
   ]
  },
  {
   "cell_type": "code",
   "execution_count": 1,
   "metadata": {
    "collapsed": true
   },
   "outputs": [],
   "source": [
    "import pandas as pd\n",
    "import matplotlib.pyplot as plt\n",
    "import seaborn as sns\n",
    "%matplotlib inline"
   ]
  },
  {
   "cell_type": "code",
   "execution_count": 3,
   "metadata": {},
   "outputs": [
    {
     "name": "stderr",
     "output_type": "stream",
     "text": [
      "/home/kevin/anaconda3/lib/python3.6/site-packages/IPython/core/interactiveshell.py:2717: DtypeWarning: Columns (23) have mixed types. Specify dtype option on import or set low_memory=False.\n",
      "  interactivity=interactivity, compiler=compiler, result=result)\n"
     ]
    }
   ],
   "source": [
    "data = pd.read_csv(\"../91APPdataset/Orders.csv\")"
   ]
  },
  {
   "cell_type": "code",
   "execution_count": 5,
   "metadata": {
    "scrolled": true
   },
   "outputs": [
    {
     "data": {
      "text/html": [
       "<div>\n",
       "<style>\n",
       "    .dataframe thead tr:only-child th {\n",
       "        text-align: right;\n",
       "    }\n",
       "\n",
       "    .dataframe thead th {\n",
       "        text-align: left;\n",
       "    }\n",
       "\n",
       "    .dataframe tbody tr th {\n",
       "        vertical-align: top;\n",
       "    }\n",
       "</style>\n",
       "<table border=\"1\" class=\"dataframe\">\n",
       "  <thead>\n",
       "    <tr style=\"text-align: right;\">\n",
       "      <th></th>\n",
       "      <th>5495273</th>\n",
       "      <th>5495274</th>\n",
       "      <th>5495275</th>\n",
       "    </tr>\n",
       "  </thead>\n",
       "  <tbody>\n",
       "    <tr>\n",
       "      <th>DateId</th>\n",
       "      <td>20170329</td>\n",
       "      <td>20170329</td>\n",
       "      <td>20170329</td>\n",
       "    </tr>\n",
       "    <tr>\n",
       "      <th>MemberId</th>\n",
       "      <td>1905124</td>\n",
       "      <td>1905124</td>\n",
       "      <td>975582</td>\n",
       "    </tr>\n",
       "    <tr>\n",
       "      <th>OrderGroupCode</th>\n",
       "      <td>b'\\x80f\\xa0oIM\\xc6\\xb5K\\x141\\x9b\\xa3\\\\\\x1f\\x18...</td>\n",
       "      <td>b'\\x80f\\xa0oIM\\xc6\\xb5K\\x141\\x9b\\xa3\\\\\\x1f\\x18...</td>\n",
       "      <td>b'y\\x84\\xe7\\x07\\x8f \\xda\\xa10\\x8ez\\xf3\\xc2\\x86...</td>\n",
       "    </tr>\n",
       "    <tr>\n",
       "      <th>TrackSourceTypeDef</th>\n",
       "      <td>iOSApp</td>\n",
       "      <td>iOSApp</td>\n",
       "      <td>iOSApp</td>\n",
       "    </tr>\n",
       "    <tr>\n",
       "      <th>TrackDeviceTypeDef</th>\n",
       "      <td>Mobile</td>\n",
       "      <td>Mobile</td>\n",
       "      <td>Mobile</td>\n",
       "    </tr>\n",
       "    <tr>\n",
       "      <th>PayProfileTypeDef</th>\n",
       "      <td>CreditCardOnce</td>\n",
       "      <td>CreditCardOnce</td>\n",
       "      <td>Family</td>\n",
       "    </tr>\n",
       "    <tr>\n",
       "      <th>SalesOrderSlaveId</th>\n",
       "      <td>31990500</td>\n",
       "      <td>31990501</td>\n",
       "      <td>31990559</td>\n",
       "    </tr>\n",
       "    <tr>\n",
       "      <th>SalePageId</th>\n",
       "      <td>1922985</td>\n",
       "      <td>3026918</td>\n",
       "      <td>3073649</td>\n",
       "    </tr>\n",
       "    <tr>\n",
       "      <th>IsMajor</th>\n",
       "      <td>True</td>\n",
       "      <td>True</td>\n",
       "      <td>True</td>\n",
       "    </tr>\n",
       "    <tr>\n",
       "      <th>IsGift</th>\n",
       "      <td>False</td>\n",
       "      <td>False</td>\n",
       "      <td>False</td>\n",
       "    </tr>\n",
       "    <tr>\n",
       "      <th>IsSalePageGift</th>\n",
       "      <td>False</td>\n",
       "      <td>False</td>\n",
       "      <td>False</td>\n",
       "    </tr>\n",
       "    <tr>\n",
       "      <th>Quantity</th>\n",
       "      <td>1</td>\n",
       "      <td>1</td>\n",
       "      <td>1</td>\n",
       "    </tr>\n",
       "    <tr>\n",
       "      <th>UnitPrice</th>\n",
       "      <td>350</td>\n",
       "      <td>199</td>\n",
       "      <td>311</td>\n",
       "    </tr>\n",
       "    <tr>\n",
       "      <th>PromotionDiscount</th>\n",
       "      <td>-20</td>\n",
       "      <td>-11</td>\n",
       "      <td>-24</td>\n",
       "    </tr>\n",
       "    <tr>\n",
       "      <th>ECouponId</th>\n",
       "      <td>0</td>\n",
       "      <td>0</td>\n",
       "      <td>0</td>\n",
       "    </tr>\n",
       "    <tr>\n",
       "      <th>ECouponDiscount</th>\n",
       "      <td>0</td>\n",
       "      <td>0</td>\n",
       "      <td>0</td>\n",
       "    </tr>\n",
       "    <tr>\n",
       "      <th>SalesOrderSlaveTotalPayment</th>\n",
       "      <td>330</td>\n",
       "      <td>188</td>\n",
       "      <td>287</td>\n",
       "    </tr>\n",
       "    <tr>\n",
       "      <th>SalesOrderSlaveDateTime</th>\n",
       "      <td>2017-03-29 15:09:42.853</td>\n",
       "      <td>2017-03-29 15:09:42.870</td>\n",
       "      <td>2017-03-29 15:10:56.747</td>\n",
       "    </tr>\n",
       "    <tr>\n",
       "      <th>SalesOrderReceiverId</th>\n",
       "      <td>10990848</td>\n",
       "      <td>10990848</td>\n",
       "      <td>10990875</td>\n",
       "    </tr>\n",
       "    <tr>\n",
       "      <th>City</th>\n",
       "      <td>台北市</td>\n",
       "      <td>台北市</td>\n",
       "      <td>花蓮縣</td>\n",
       "    </tr>\n",
       "    <tr>\n",
       "      <th>District</th>\n",
       "      <td>士林區</td>\n",
       "      <td>士林區</td>\n",
       "      <td>花蓮市</td>\n",
       "    </tr>\n",
       "    <tr>\n",
       "      <th>ZipCode</th>\n",
       "      <td>111</td>\n",
       "      <td>111</td>\n",
       "      <td>970</td>\n",
       "    </tr>\n",
       "    <tr>\n",
       "      <th>StoreName</th>\n",
       "      <td>NaN</td>\n",
       "      <td>NaN</td>\n",
       "      <td>全家花蓮國盛店</td>\n",
       "    </tr>\n",
       "    <tr>\n",
       "      <th>StoreId</th>\n",
       "      <td>NaN</td>\n",
       "      <td>NaN</td>\n",
       "      <td>5304</td>\n",
       "    </tr>\n",
       "    <tr>\n",
       "      <th>DeliverTypeDef</th>\n",
       "      <td>Home</td>\n",
       "      <td>Home</td>\n",
       "      <td>Family</td>\n",
       "    </tr>\n",
       "    <tr>\n",
       "      <th>StatusDef</th>\n",
       "      <td>Finish</td>\n",
       "      <td>Finish</td>\n",
       "      <td>Finish</td>\n",
       "    </tr>\n",
       "    <tr>\n",
       "      <th>ReturnGoodsDateId</th>\n",
       "      <td>NaN</td>\n",
       "      <td>NaN</td>\n",
       "      <td>NaN</td>\n",
       "    </tr>\n",
       "    <tr>\n",
       "      <th>CauseDef</th>\n",
       "      <td>NaN</td>\n",
       "      <td>NaN</td>\n",
       "      <td>NaN</td>\n",
       "    </tr>\n",
       "  </tbody>\n",
       "</table>\n",
       "</div>"
      ],
      "text/plain": [
       "                                                                       5495273  \\\n",
       "DateId                                                                20170329   \n",
       "MemberId                                                               1905124   \n",
       "OrderGroupCode               b'\\x80f\\xa0oIM\\xc6\\xb5K\\x141\\x9b\\xa3\\\\\\x1f\\x18...   \n",
       "TrackSourceTypeDef                                                      iOSApp   \n",
       "TrackDeviceTypeDef                                                      Mobile   \n",
       "PayProfileTypeDef                                               CreditCardOnce   \n",
       "SalesOrderSlaveId                                                     31990500   \n",
       "SalePageId                                                             1922985   \n",
       "IsMajor                                                                   True   \n",
       "IsGift                                                                   False   \n",
       "IsSalePageGift                                                           False   \n",
       "Quantity                                                                     1   \n",
       "UnitPrice                                                                  350   \n",
       "PromotionDiscount                                                          -20   \n",
       "ECouponId                                                                    0   \n",
       "ECouponDiscount                                                              0   \n",
       "SalesOrderSlaveTotalPayment                                                330   \n",
       "SalesOrderSlaveDateTime                                2017-03-29 15:09:42.853   \n",
       "SalesOrderReceiverId                                                  10990848   \n",
       "City                                                                       台北市   \n",
       "District                                                                   士林區   \n",
       "ZipCode                                                                    111   \n",
       "StoreName                                                                  NaN   \n",
       "StoreId                                                                    NaN   \n",
       "DeliverTypeDef                                                            Home   \n",
       "StatusDef                                                               Finish   \n",
       "ReturnGoodsDateId                                                          NaN   \n",
       "CauseDef                                                                   NaN   \n",
       "\n",
       "                                                                       5495274  \\\n",
       "DateId                                                                20170329   \n",
       "MemberId                                                               1905124   \n",
       "OrderGroupCode               b'\\x80f\\xa0oIM\\xc6\\xb5K\\x141\\x9b\\xa3\\\\\\x1f\\x18...   \n",
       "TrackSourceTypeDef                                                      iOSApp   \n",
       "TrackDeviceTypeDef                                                      Mobile   \n",
       "PayProfileTypeDef                                               CreditCardOnce   \n",
       "SalesOrderSlaveId                                                     31990501   \n",
       "SalePageId                                                             3026918   \n",
       "IsMajor                                                                   True   \n",
       "IsGift                                                                   False   \n",
       "IsSalePageGift                                                           False   \n",
       "Quantity                                                                     1   \n",
       "UnitPrice                                                                  199   \n",
       "PromotionDiscount                                                          -11   \n",
       "ECouponId                                                                    0   \n",
       "ECouponDiscount                                                              0   \n",
       "SalesOrderSlaveTotalPayment                                                188   \n",
       "SalesOrderSlaveDateTime                                2017-03-29 15:09:42.870   \n",
       "SalesOrderReceiverId                                                  10990848   \n",
       "City                                                                       台北市   \n",
       "District                                                                   士林區   \n",
       "ZipCode                                                                    111   \n",
       "StoreName                                                                  NaN   \n",
       "StoreId                                                                    NaN   \n",
       "DeliverTypeDef                                                            Home   \n",
       "StatusDef                                                               Finish   \n",
       "ReturnGoodsDateId                                                          NaN   \n",
       "CauseDef                                                                   NaN   \n",
       "\n",
       "                                                                       5495275  \n",
       "DateId                                                                20170329  \n",
       "MemberId                                                                975582  \n",
       "OrderGroupCode               b'y\\x84\\xe7\\x07\\x8f \\xda\\xa10\\x8ez\\xf3\\xc2\\x86...  \n",
       "TrackSourceTypeDef                                                      iOSApp  \n",
       "TrackDeviceTypeDef                                                      Mobile  \n",
       "PayProfileTypeDef                                                       Family  \n",
       "SalesOrderSlaveId                                                     31990559  \n",
       "SalePageId                                                             3073649  \n",
       "IsMajor                                                                   True  \n",
       "IsGift                                                                   False  \n",
       "IsSalePageGift                                                           False  \n",
       "Quantity                                                                     1  \n",
       "UnitPrice                                                                  311  \n",
       "PromotionDiscount                                                          -24  \n",
       "ECouponId                                                                    0  \n",
       "ECouponDiscount                                                              0  \n",
       "SalesOrderSlaveTotalPayment                                                287  \n",
       "SalesOrderSlaveDateTime                                2017-03-29 15:10:56.747  \n",
       "SalesOrderReceiverId                                                  10990875  \n",
       "City                                                                       花蓮縣  \n",
       "District                                                                   花蓮市  \n",
       "ZipCode                                                                    970  \n",
       "StoreName                                                              全家花蓮國盛店  \n",
       "StoreId                                                                   5304  \n",
       "DeliverTypeDef                                                          Family  \n",
       "StatusDef                                                               Finish  \n",
       "ReturnGoodsDateId                                                          NaN  \n",
       "CauseDef                                                                   NaN  "
      ]
     },
     "execution_count": 5,
     "metadata": {},
     "output_type": "execute_result"
    }
   ],
   "source": [
    "data.tail(3).T"
   ]
  },
  {
   "cell_type": "code",
   "execution_count": 15,
   "metadata": {},
   "outputs": [],
   "source": [
    "data['DateId'] = pd.to_datetime(data['DateId'], format='%Y%m%d')\n",
    "data['Weekday'] = data['DateId'].apply(lambda x: x.dayofweek)"
   ]
  },
  {
   "cell_type": "code",
   "execution_count": 19,
   "metadata": {},
   "outputs": [
    {
     "data": {
      "text/html": [
       "<div>\n",
       "<style>\n",
       "    .dataframe thead tr:only-child th {\n",
       "        text-align: right;\n",
       "    }\n",
       "\n",
       "    .dataframe thead th {\n",
       "        text-align: left;\n",
       "    }\n",
       "\n",
       "    .dataframe tbody tr th {\n",
       "        vertical-align: top;\n",
       "    }\n",
       "</style>\n",
       "<table border=\"1\" class=\"dataframe\">\n",
       "  <thead>\n",
       "    <tr style=\"text-align: right;\">\n",
       "      <th></th>\n",
       "      <th>Weekday</th>\n",
       "      <th>Quantity</th>\n",
       "    </tr>\n",
       "  </thead>\n",
       "  <tbody>\n",
       "    <tr>\n",
       "      <th>0</th>\n",
       "      <td>1</td>\n",
       "      <td>750079</td>\n",
       "    </tr>\n",
       "    <tr>\n",
       "      <th>1</th>\n",
       "      <td>2</td>\n",
       "      <td>827454</td>\n",
       "    </tr>\n",
       "    <tr>\n",
       "      <th>2</th>\n",
       "      <td>3</td>\n",
       "      <td>836489</td>\n",
       "    </tr>\n",
       "    <tr>\n",
       "      <th>3</th>\n",
       "      <td>4</td>\n",
       "      <td>773765</td>\n",
       "    </tr>\n",
       "    <tr>\n",
       "      <th>4</th>\n",
       "      <td>5</td>\n",
       "      <td>743191</td>\n",
       "    </tr>\n",
       "    <tr>\n",
       "      <th>5</th>\n",
       "      <td>6</td>\n",
       "      <td>817931</td>\n",
       "    </tr>\n",
       "    <tr>\n",
       "      <th>6</th>\n",
       "      <td>7</td>\n",
       "      <td>859920</td>\n",
       "    </tr>\n",
       "  </tbody>\n",
       "</table>\n",
       "</div>"
      ],
      "text/plain": [
       "   Weekday  Quantity\n",
       "0        1    750079\n",
       "1        2    827454\n",
       "2        3    836489\n",
       "3        4    773765\n",
       "4        5    743191\n",
       "5        6    817931\n",
       "6        7    859920"
      ]
     },
     "execution_count": 19,
     "metadata": {},
     "output_type": "execute_result"
    }
   ],
   "source": [
    "day_quantity = data.groupby('Weekday')['Quantity'].sum().reset_index(name='Quantity')\n",
    "day_quantity['Weekday'] = day_quantity['Weekday'] + 1\n",
    "day_quantity"
   ]
  },
  {
   "cell_type": "markdown",
   "metadata": {},
   "source": [
    "## Matplotlib"
   ]
  },
  {
   "cell_type": "code",
   "execution_count": 32,
   "metadata": {},
   "outputs": [
    {
     "data": {
      "text/plain": [
       "[<matplotlib.text.Text at 0x7f58e894a080>]"
      ]
     },
     "execution_count": 32,
     "metadata": {},
     "output_type": "execute_result"
    },
    {
     "data": {
      "image/png": "[encoded data removed]",
      "text/plain": [
       "<matplotlib.figure.Figure at 0x7f58e89dd080>"
      ]
     },
     "metadata": {},
     "output_type": "display_data"
    }
   ],
   "source": [
    "fig = plt.figure()\n",
    "ax = fig.add_subplot(111)\n",
    "ax.bar(day_quantity['Weekday'], day_quantity['Quantity'])\n",
    "ax.xaxis.set(ticks=range(1,8), ticklabels=['Mon', 'Tue', 'Wed', 'Thu', 'Fri', 'Sat', 'Sun'])\n",
    "ax.set(title=\"Sales Quantity On Each Weekdays\")\n"
   ]
  },
  {
   "cell_type": "markdown",
   "metadata": {},
   "source": [
    "## Seaborn"
   ]
  },
  {
   "cell_type": "code",
   "execution_count": 43,
   "metadata": {},
   "outputs": [
    {
     "data": {
      "text/plain": [
       "<matplotlib.text.Text at 0x7f58c1952dd8>"
      ]
     },
     "execution_count": 43,
     "metadata": {},
     "output_type": "execute_result"
    },
    {
     "data": {
      "image/png": "[encoded data removed]",
      "text/plain": [
       "<matplotlib.figure.Figure at 0x7f58c19f6d68>"
      ]
     },
     "metadata": {},
     "output_type": "display_data"
    }
   ],
   "source": [
    "sns.set(style=\"whitegrid\", color_codes=True)\n",
    "g = sns.barplot(x='Weekday', y='Quantity', data=day_quantity)\n",
    "g.set(xticklabels=['Mon', 'Tue', 'Wed', 'Thu', 'Fri', 'Sat', 'Sun'])\n",
    "plt.title(\"Sales Quantity On Each Weekdays\")"
   ]
  },
  {
   "cell_type": "code",
   "execution_count": null,
   "metadata": {
    "collapsed": true
   },
   "outputs": [],
   "source": []
  }
 ],
 "metadata": {
  "kernelspec": {
   "display_name": "Python 3",
   "language": "python",
   "name": "python3"
  },
  "language_info": {
   "codemirror_mode": {
    "name": "ipython",
    "version": 3
   },
   "file_extension": ".py",
   "mimetype": "text/x-python",
   "name": "python",
   "nbconvert_exporter": "python",
   "pygments_lexer": "ipython3",
   "version": "3.7.0"
  }
 },
 "nbformat": 4,
 "nbformat_minor": 2
}
