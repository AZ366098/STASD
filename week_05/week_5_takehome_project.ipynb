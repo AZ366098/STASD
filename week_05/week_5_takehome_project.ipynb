{
 "cells": [
  {
   "cell_type": "markdown",
   "metadata": {},
   "source": [
    "# Week 5. Take-Home Project\n",
    "### 應用 TF-IDF 原理找出消費者的代表商品\n",
    "我們可以應用 TF-IDF 的原理去調整購買紀錄：將大家普遍都會購買的商品比重降低，消費者個人特別的選購商品比重調高。藉此我們就可以找出個體之間的差異，進一步了解客戶的消費習慣與生活風格，為行銷與推薦系統提供更多資訊。"
   ]
  },
  {
   "cell_type": "code",
   "execution_count": 1,
   "metadata": {
    "collapsed": false
   },
   "outputs": [
    {
     "name": "stderr",
     "output_type": "stream",
     "text": [
      "C:\\Users\\user\\Anaconda3\\lib\\importlib\\_bootstrap.py:222: RuntimeWarning: numpy.dtype size changed, may indicate binary incompatibility. Expected 96, got 88\n",
      "  return f(*args, **kwds)\n"
     ]
    }
   ],
   "source": [
    "from functools import reduce\n",
    "import matplotlib.pyplot as plt\n",
    "%matplotlib inline\n",
    "import numpy as np\n",
    "import pandas as pd"
   ]
  },
  {
   "cell_type": "code",
   "execution_count": 2,
   "metadata": {
    "collapsed": false
   },
   "outputs": [
    {
     "name": "stderr",
     "output_type": "stream",
     "text": [
      "C:\\Users\\user\\Anaconda3\\lib\\site-packages\\IPython\\core\\interactiveshell.py:2723: DtypeWarning: Columns (23) have mixed types. Specify dtype option on import or set low_memory=False.\n",
      "  interactivity=interactivity, compiler=compiler, result=result)\n"
     ]
    }
   ],
   "source": [
    "data = pd.read_csv('../91APPdataset/Orders.csv')"
   ]
  },
  {
   "cell_type": "code",
   "execution_count": 3,
   "metadata": {
    "collapsed": false,
    "scrolled": true
   },
   "outputs": [
    {
     "name": "stdout",
     "output_type": "stream",
     "text": [
      "<class 'pandas.core.frame.DataFrame'>\n",
      "RangeIndex: 5495276 entries, 0 to 5495275\n",
      "Data columns (total 28 columns):\n",
      "DateId                         5495276 non-null int64\n",
      "MemberId                       5495276 non-null int64\n",
      "OrderGroupCode                 5495276 non-null object\n",
      "TrackSourceTypeDef             5495276 non-null object\n",
      "TrackDeviceTypeDef             5495276 non-null object\n",
      "PayProfileTypeDef              5495276 non-null object\n",
      "SalesOrderSlaveId              5495276 non-null int64\n",
      "SalePageId                     5495276 non-null int64\n",
      "IsMajor                        5495276 non-null bool\n",
      "IsGift                         5495276 non-null bool\n",
      "IsSalePageGift                 5495276 non-null bool\n",
      "Quantity                       5495276 non-null int64\n",
      "UnitPrice                      5495276 non-null float64\n",
      "PromotionDiscount              5495276 non-null float64\n",
      "ECouponId                      5495276 non-null int64\n",
      "ECouponDiscount                5495276 non-null float64\n",
      "SalesOrderSlaveTotalPayment    5495276 non-null float64\n",
      "SalesOrderSlaveDateTime        5495276 non-null object\n",
      "SalesOrderReceiverId           5495276 non-null int64\n",
      "City                           5495267 non-null object\n",
      "District                       4168257 non-null object\n",
      "ZipCode                        5495267 non-null float64\n",
      "StoreName                      4997006 non-null object\n",
      "StoreId                        4997006 non-null object\n",
      "DeliverTypeDef                 5495276 non-null object\n",
      "StatusDef                      5495276 non-null object\n",
      "ReturnGoodsDateId              283245 non-null float64\n",
      "CauseDef                       283245 non-null object\n",
      "dtypes: bool(3), float64(6), int64(7), object(12)\n",
      "memory usage: 1.0+ GB\n"
     ]
    }
   ],
   "source": [
    "data.info(null_counts=True)"
   ]
  },
  {
   "cell_type": "code",
   "execution_count": 4,
   "metadata": {
    "collapsed": false
   },
   "outputs": [
    {
     "data": {
      "text/plain": [
       "563457"
      ]
     },
     "execution_count": 4,
     "metadata": {},
     "output_type": "execute_result"
    }
   ],
   "source": [
    "len(data.MemberId.unique())"
   ]
  },
  {
   "cell_type": "markdown",
   "metadata": {},
   "source": [
    "### 長資料 (Long Data) 與寬資料 (Wide Data)：Pandas 的樞紐分析表函式\n",
    "我們要將每個人買了什麼東西的資訊蒐集起來，並羅列出他們的數量，用`groupby()`就可以輕鬆做到。"
   ]
  },
  {
   "cell_type": "code",
   "execution_count": 10,
   "metadata": {
    "collapsed": false
   },
   "outputs": [
    {
     "data": {
      "text/html": [
       "<div>\n",
       "<style scoped>\n",
       "    .dataframe tbody tr th:only-of-type {\n",
       "        vertical-align: middle;\n",
       "    }\n",
       "\n",
       "    .dataframe tbody tr th {\n",
       "        vertical-align: top;\n",
       "    }\n",
       "\n",
       "    .dataframe thead th {\n",
       "        text-align: right;\n",
       "    }\n",
       "</style>\n",
       "<table border=\"1\" class=\"dataframe\">\n",
       "  <thead>\n",
       "    <tr style=\"text-align: right;\">\n",
       "      <th></th>\n",
       "      <th>MemberId</th>\n",
       "      <th>SalePageId</th>\n",
       "      <th>Quantity</th>\n",
       "    </tr>\n",
       "  </thead>\n",
       "  <tbody>\n",
       "    <tr>\n",
       "      <th>0</th>\n",
       "      <td>1326</td>\n",
       "      <td>2294442</td>\n",
       "      <td>1</td>\n",
       "    </tr>\n",
       "    <tr>\n",
       "      <th>1</th>\n",
       "      <td>1329</td>\n",
       "      <td>1119492</td>\n",
       "      <td>1</td>\n",
       "    </tr>\n",
       "    <tr>\n",
       "      <th>2</th>\n",
       "      <td>1329</td>\n",
       "      <td>1413478</td>\n",
       "      <td>1</td>\n",
       "    </tr>\n",
       "    <tr>\n",
       "      <th>3</th>\n",
       "      <td>1329</td>\n",
       "      <td>1438703</td>\n",
       "      <td>1</td>\n",
       "    </tr>\n",
       "    <tr>\n",
       "      <th>4</th>\n",
       "      <td>1334</td>\n",
       "      <td>1597130</td>\n",
       "      <td>1</td>\n",
       "    </tr>\n",
       "    <tr>\n",
       "      <th>5</th>\n",
       "      <td>1334</td>\n",
       "      <td>1674525</td>\n",
       "      <td>1</td>\n",
       "    </tr>\n",
       "    <tr>\n",
       "      <th>6</th>\n",
       "      <td>1334</td>\n",
       "      <td>1883587</td>\n",
       "      <td>1</td>\n",
       "    </tr>\n",
       "    <tr>\n",
       "      <th>7</th>\n",
       "      <td>1336</td>\n",
       "      <td>1959833</td>\n",
       "      <td>3</td>\n",
       "    </tr>\n",
       "    <tr>\n",
       "      <th>8</th>\n",
       "      <td>1336</td>\n",
       "      <td>1959927</td>\n",
       "      <td>4</td>\n",
       "    </tr>\n",
       "    <tr>\n",
       "      <th>9</th>\n",
       "      <td>1336</td>\n",
       "      <td>1974625</td>\n",
       "      <td>10</td>\n",
       "    </tr>\n",
       "    <tr>\n",
       "      <th>10</th>\n",
       "      <td>1336</td>\n",
       "      <td>2036844</td>\n",
       "      <td>7</td>\n",
       "    </tr>\n",
       "    <tr>\n",
       "      <th>11</th>\n",
       "      <td>1336</td>\n",
       "      <td>2104438</td>\n",
       "      <td>3</td>\n",
       "    </tr>\n",
       "  </tbody>\n",
       "</table>\n",
       "</div>"
      ],
      "text/plain": [
       "    MemberId  SalePageId  Quantity\n",
       "0       1326     2294442         1\n",
       "1       1329     1119492         1\n",
       "2       1329     1413478         1\n",
       "3       1329     1438703         1\n",
       "4       1334     1597130         1\n",
       "5       1334     1674525         1\n",
       "6       1334     1883587         1\n",
       "7       1336     1959833         3\n",
       "8       1336     1959927         4\n",
       "9       1336     1974625        10\n",
       "10      1336     2036844         7\n",
       "11      1336     2104438         3"
      ]
     },
     "execution_count": 10,
     "metadata": {},
     "output_type": "execute_result"
    }
   ],
   "source": [
    "member_grouped = data.groupby(['MemberId', 'SalePageId'])\n",
    "member_grouped['Quantity'].sum().head(12).reset_index()"
   ]
  },
  {
   "cell_type": "markdown",
   "metadata": {
    "collapsed": true
   },
   "source": [
    "這不是我們想要的表格。這樣的表格表示方式就是長資料(long data)，將所有特徵以 multi-index 描述，所有維度擠在左邊。可以發現，這樣的表達方式跟 json 和 xml 很相似，都是用一層一層的屬性紀錄資訊。\n",
    "\n",
    "但是我們不能用這個操作 tf-idf，我們需要個人在橫軸(或縱軸)、物品在另一軸、內容為物品購買數量的表格，像下面這樣："
   ]
  },
  {
   "cell_type": "code",
   "execution_count": 14,
   "metadata": {
    "collapsed": false
   },
   "outputs": [
    {
     "data": {
      "text/html": [
       "<div>\n",
       "<style scoped>\n",
       "    .dataframe tbody tr th:only-of-type {\n",
       "        vertical-align: middle;\n",
       "    }\n",
       "\n",
       "    .dataframe tbody tr th {\n",
       "        vertical-align: top;\n",
       "    }\n",
       "\n",
       "    .dataframe thead th {\n",
       "        text-align: right;\n",
       "    }\n",
       "</style>\n",
       "<table border=\"1\" class=\"dataframe\">\n",
       "  <thead>\n",
       "    <tr style=\"text-align: right;\">\n",
       "      <th>SalePageId</th>\n",
       "      <th>1119492</th>\n",
       "      <th>1413478</th>\n",
       "      <th>1438703</th>\n",
       "      <th>1597130</th>\n",
       "      <th>1674525</th>\n",
       "      <th>1883587</th>\n",
       "      <th>1959833</th>\n",
       "      <th>1959927</th>\n",
       "      <th>1974625</th>\n",
       "      <th>2036844</th>\n",
       "      <th>2104438</th>\n",
       "      <th>2294442</th>\n",
       "    </tr>\n",
       "    <tr>\n",
       "      <th>MemberId</th>\n",
       "      <th></th>\n",
       "      <th></th>\n",
       "      <th></th>\n",
       "      <th></th>\n",
       "      <th></th>\n",
       "      <th></th>\n",
       "      <th></th>\n",
       "      <th></th>\n",
       "      <th></th>\n",
       "      <th></th>\n",
       "      <th></th>\n",
       "      <th></th>\n",
       "    </tr>\n",
       "  </thead>\n",
       "  <tbody>\n",
       "    <tr>\n",
       "      <th>1326</th>\n",
       "      <td>0</td>\n",
       "      <td>0</td>\n",
       "      <td>0</td>\n",
       "      <td>0</td>\n",
       "      <td>0</td>\n",
       "      <td>0</td>\n",
       "      <td>0</td>\n",
       "      <td>0</td>\n",
       "      <td>0</td>\n",
       "      <td>0</td>\n",
       "      <td>0</td>\n",
       "      <td>1</td>\n",
       "    </tr>\n",
       "    <tr>\n",
       "      <th>1329</th>\n",
       "      <td>1</td>\n",
       "      <td>1</td>\n",
       "      <td>1</td>\n",
       "      <td>0</td>\n",
       "      <td>0</td>\n",
       "      <td>0</td>\n",
       "      <td>0</td>\n",
       "      <td>0</td>\n",
       "      <td>0</td>\n",
       "      <td>0</td>\n",
       "      <td>0</td>\n",
       "      <td>0</td>\n",
       "    </tr>\n",
       "    <tr>\n",
       "      <th>1334</th>\n",
       "      <td>0</td>\n",
       "      <td>0</td>\n",
       "      <td>0</td>\n",
       "      <td>1</td>\n",
       "      <td>1</td>\n",
       "      <td>1</td>\n",
       "      <td>0</td>\n",
       "      <td>0</td>\n",
       "      <td>0</td>\n",
       "      <td>0</td>\n",
       "      <td>0</td>\n",
       "      <td>0</td>\n",
       "    </tr>\n",
       "    <tr>\n",
       "      <th>1336</th>\n",
       "      <td>0</td>\n",
       "      <td>0</td>\n",
       "      <td>0</td>\n",
       "      <td>0</td>\n",
       "      <td>0</td>\n",
       "      <td>0</td>\n",
       "      <td>3</td>\n",
       "      <td>4</td>\n",
       "      <td>10</td>\n",
       "      <td>7</td>\n",
       "      <td>3</td>\n",
       "      <td>0</td>\n",
       "    </tr>\n",
       "  </tbody>\n",
       "</table>\n",
       "</div>"
      ],
      "text/plain": [
       "SalePageId  1119492  1413478  1438703  1597130  1674525  1883587  1959833  \\\n",
       "MemberId                                                                    \n",
       "1326              0        0        0        0        0        0        0   \n",
       "1329              1        1        1        0        0        0        0   \n",
       "1334              0        0        0        1        1        1        0   \n",
       "1336              0        0        0        0        0        0        3   \n",
       "\n",
       "SalePageId  1959927  1974625  2036844  2104438  2294442  \n",
       "MemberId                                                 \n",
       "1326              0        0        0        0        1  \n",
       "1329              0        0        0        0        0  \n",
       "1334              0        0        0        0        0  \n",
       "1336              4       10        7        3        0  "
      ]
     },
     "execution_count": 14,
     "metadata": {},
     "output_type": "execute_result"
    }
   ],
   "source": [
    "pd.pivot_table(member_grouped['Quantity'].sum().head(12).reset_index(),\n",
    "               values='Quantity',\n",
    "               index='MemberId',\n",
    "               columns='SalePageId',\n",
    "               fill_value=0)"
   ]
  },
  {
   "cell_type": "markdown",
   "metadata": {},
   "source": [
    "這樣的方式是寬資料(wide data)，可以用`pivot_table()`這個函式來完成。事實上這就是 Excel 中的樞紐分析，你可以隨意選兩個特徵，用這二個維度把資料分群，然後找出你感興趣的各群統計量。也稱 cross-tabulation。Stata 裡面的 `tab`，R 的 `tapply`，也是同樣一回事。\n",
    "\n",
    "StackOverflow 的文章 \"[How to pivot a dataframe?](https://stackoverflow.com/questions/47152691/how-to-pivot-a-dataframe)\" 提供了非常完善的說明。 "
   ]
  },
  {
   "cell_type": "code",
   "execution_count": null,
   "metadata": {
    "collapsed": true
   },
   "outputs": [],
   "source": []
  }
 ],
 "metadata": {
  "anaconda-cloud": {},
  "kernelspec": {
   "display_name": "Python [Root]",
   "language": "python",
   "name": "Python [Root]"
  },
  "language_info": {
   "codemirror_mode": {
    "name": "ipython",
    "version": 3
   },
   "file_extension": ".py",
   "mimetype": "text/x-python",
   "name": "python",
   "nbconvert_exporter": "python",
   "pygments_lexer": "ipython3",
   "version": "3.5.2"
  }
 },
 "nbformat": 4,
 "nbformat_minor": 0
}
